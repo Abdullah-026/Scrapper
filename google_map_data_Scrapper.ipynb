{
 "cells": [
  {
   "cell_type": "code",
   "execution_count": 2,
   "metadata": {},
   "outputs": [
    {
     "name": "stdout",
     "output_type": "stream",
     "text": [
      "Collecting selenium\n",
      "  Using cached selenium-3.141.0-py2.py3-none-any.whl (904 kB)\n",
      "Requirement already satisfied: urllib3 in c:\\users\\rajam\\anaconda3\\lib\\site-packages (from selenium) (1.25.11)\n",
      "Installing collected packages: selenium\n",
      "Successfully installed selenium-3.141.0\n"
     ]
    }
   ],
   "source": [
    "!pip install selenium"
   ]
  },
  {
   "cell_type": "code",
   "execution_count": 16,
   "metadata": {},
   "outputs": [],
   "source": [
    "from selenium import webdriver\n",
    "from bs4 import BeautifulSoup\n",
    "import threading\n",
    "import pandas as pd\n",
    "import time"
   ]
  },
  {
   "cell_type": "code",
   "execution_count": 20,
   "metadata": {},
   "outputs": [],
   "source": [
    "filename = \"google_data_scrapper\"\n",
    "url = \"https://www.google.com/search?q=hospital+in+lahore&biw=1242&bih=568&tbm=lcl&sxsrf=ALeKk0051O8hdCcpeEvZM3dL-J933-LOJg%3A1617554527145&ei=X-xpYPi5CM3XgQbO8r2ADw&oq=hospital+in+la&gs_l=psy-ab.1.0.0i273k1j0l9.1239831.1241988.0.1245460.11.9.0.0.0.0.752.1977.2-1j1j0j1j1.4.0....0...1c.1.64.psy-ab..9.2.1035...35i39k1j0i67k1.0.u8Mk52b8Xpo#rlfi=hd:;si:;mv:[[31.602235099999998,74.52327900000002],[31.3756569,74.139949]];tbs:lrf:!1m4!1u3!2m2!3m1!1e1!1m4!1u2!2m2!2m1!1e1!2m1!1e2!2m1!1e3!3sIAE,lf:1,lf_ui:2\""
   ]
  },
  {
   "cell_type": "code",
   "execution_count": 21,
   "metadata": {},
   "outputs": [
    {
     "name": "stdout",
     "output_type": "stream",
     "text": [
      "error\n",
      "error\n",
      "error\n",
      "error\n",
      "Shalamar Hospital, Shalamar Road, LahoreWebsiteDirections           Saved (0) Saved Save     \n",
      "(042) 111 205 205\n",
      "Aadil Hospital\n",
      "(042) 111 223 454\n",
      "National Hospital & Medical CenterWebsiteDirections           Saved (0) Saved Save     \n",
      "(042) 111 171 819\n",
      "Masood Hospital\n",
      "(042) 111 627 663\n"
     ]
    },
    {
     "ename": "KeyboardInterrupt",
     "evalue": "",
     "output_type": "error",
     "traceback": [
      "\u001b[1;31m---------------------------------------------------------------------------\u001b[0m",
      "\u001b[1;31mKeyboardInterrupt\u001b[0m                         Traceback (most recent call last)",
      "\u001b[1;32m<ipython-input-21-bb1e6596624f>\u001b[0m in \u001b[0;36m<module>\u001b[1;34m\u001b[0m\n\u001b[0;32m     58\u001b[0m \u001b[0mbrowser\u001b[0m\u001b[1;33m.\u001b[0m\u001b[0mget\u001b[0m\u001b[1;33m(\u001b[0m\u001b[0murl\u001b[0m\u001b[1;33m)\u001b[0m\u001b[1;33m\u001b[0m\u001b[1;33m\u001b[0m\u001b[0m\n\u001b[0;32m     59\u001b[0m \u001b[0mtime\u001b[0m\u001b[1;33m.\u001b[0m\u001b[0msleep\u001b[0m\u001b[1;33m(\u001b[0m\u001b[1;36m10\u001b[0m\u001b[1;33m)\u001b[0m                                             \u001b[1;31m# pausing the program for 10 secs\u001b[0m\u001b[1;33m\u001b[0m\u001b[1;33m\u001b[0m\u001b[0m\n\u001b[1;32m---> 60\u001b[1;33m \u001b[0mSelenium_extractor\u001b[0m\u001b[1;33m(\u001b[0m\u001b[1;33m)\u001b[0m\u001b[1;33m\u001b[0m\u001b[1;33m\u001b[0m\u001b[0m\n\u001b[0m",
      "\u001b[1;32m<ipython-input-21-bb1e6596624f>\u001b[0m in \u001b[0;36mSelenium_extractor\u001b[1;34m()\u001b[0m\n\u001b[0;32m      8\u001b[0m     \u001b[1;32mfor\u001b[0m \u001b[0mi\u001b[0m \u001b[1;32min\u001b[0m \u001b[0mrange\u001b[0m\u001b[1;33m(\u001b[0m\u001b[0mlen\u001b[0m\u001b[1;33m(\u001b[0m\u001b[0ma\u001b[0m\u001b[1;33m)\u001b[0m\u001b[1;33m)\u001b[0m\u001b[1;33m:\u001b[0m\u001b[1;33m\u001b[0m\u001b[1;33m\u001b[0m\u001b[0m\n\u001b[0;32m      9\u001b[0m         \u001b[0ma\u001b[0m\u001b[1;33m[\u001b[0m\u001b[0mi\u001b[0m\u001b[1;33m]\u001b[0m\u001b[1;33m.\u001b[0m\u001b[0mclick\u001b[0m\u001b[1;33m(\u001b[0m\u001b[1;33m)\u001b[0m\u001b[1;33m\u001b[0m\u001b[1;33m\u001b[0m\u001b[0m\n\u001b[1;32m---> 10\u001b[1;33m         \u001b[0mtime\u001b[0m\u001b[1;33m.\u001b[0m\u001b[0msleep\u001b[0m\u001b[1;33m(\u001b[0m\u001b[1;36m2\u001b[0m\u001b[1;33m)\u001b[0m\u001b[1;33m\u001b[0m\u001b[1;33m\u001b[0m\u001b[0m\n\u001b[0m\u001b[0;32m     11\u001b[0m         \u001b[0msource\u001b[0m\u001b[1;33m=\u001b[0m\u001b[0mbrowser\u001b[0m\u001b[1;33m.\u001b[0m\u001b[0mpage_source\u001b[0m\u001b[1;33m\u001b[0m\u001b[1;33m\u001b[0m\u001b[0m\n\u001b[0;32m     12\u001b[0m                                                           \u001b[1;31m#Beautiful soup for scraping the html source\u001b[0m\u001b[1;33m\u001b[0m\u001b[1;33m\u001b[0m\u001b[1;33m\u001b[0m\u001b[0m\n",
      "\u001b[1;31mKeyboardInterrupt\u001b[0m: "
     ]
    }
   ],
   "source": [
    "browser = webdriver.Chrome('C:/chromedriver.exe')\n",
    "record= []\n",
    "e= []\n",
    "def Selenium_extractor():\n",
    "    time.sleep(2)\n",
    "    a=browser.find_elements_by_class_name(\"VkpGBb\")\n",
    "    time.sleep(1)\n",
    "    for i in range(len(a)):\n",
    "        a[i].click()\n",
    "        time.sleep(2)\n",
    "        source=browser.page_source\n",
    "                                                          #Beautiful soup for scraping the html source\n",
    "        soup=BeautifulSoup(source,'html.parser')\n",
    "        try:\n",
    "            Name_Html=soup.findAll('div',{\"class\":\"SPZz6b\"})\n",
    "            \n",
    "            name=Name_Html[0].text\n",
    "            if name not in e:\n",
    "                e.append(name)\n",
    "                print(name)\n",
    "                Phone_Html=soup.findAll('span',{\"class\":\"LrzXr zdqRlf kno-fv\"})    \n",
    "                phone=Phone_Html[0].text\n",
    "                print(phone)\n",
    "            \n",
    "                Address_Html=soup.findAll('span',{\"class\":\"LrzXr\"})\n",
    "                \n",
    "                address=Address_Html[0].text\n",
    "                #print(address)\n",
    "                try:\n",
    "                    Website_Html=soup.findAll('div',{\"class\":\"QqG1Sd\"})\n",
    "                    web=Website_Html[0].findAll('a')\n",
    "            \n",
    "                    website=web[0].get('href')\n",
    "                except:\n",
    "                    website=\"Not available\"\n",
    "                #print(website)\n",
    "                record.append((name,phone,address,website))\n",
    "                df=pd.DataFrame(record,columns=['Name','Phone number','Address','Website'])  # writing data to the file\n",
    "                df.to_csv(filename + '.csv',index=False,encoding='utf-8')\n",
    "\n",
    "        except:\n",
    "            print(\"error\")\n",
    "            continue\n",
    "            \n",
    "\n",
    "        \n",
    "    try:\n",
    "        time.sleep(1)            \n",
    "        next_button=browser.find_element_by_id(\"pnnext\")                  # clicking the next button\n",
    "        next_button.click()\n",
    "        browser.implicitly_wait(2)\n",
    "        time.sleep(2)\n",
    "        Selenium_extractor()\n",
    "    except:\n",
    "        print(\"ERROR occured at clicking net button\")\n",
    "\n",
    "        \n",
    "browser.get(url) \n",
    "time.sleep(10)                                             # pausing the program for 10 secs\n",
    "Selenium_extractor()"
   ]
  },
  {
   "cell_type": "code",
   "execution_count": 9,
   "metadata": {},
   "outputs": [],
   "source": []
  },
  {
   "cell_type": "code",
   "execution_count": 10,
   "metadata": {},
   "outputs": [],
   "source": []
  },
  {
   "cell_type": "code",
   "execution_count": null,
   "metadata": {},
   "outputs": [],
   "source": []
  },
  {
   "cell_type": "code",
   "execution_count": null,
   "metadata": {},
   "outputs": [],
   "source": []
  }
 ],
 "metadata": {
  "kernelspec": {
   "display_name": "Python 3",
   "language": "python",
   "name": "python3"
  },
  "language_info": {
   "codemirror_mode": {
    "name": "ipython",
    "version": 3
   },
   "file_extension": ".py",
   "mimetype": "text/x-python",
   "name": "python",
   "nbconvert_exporter": "python",
   "pygments_lexer": "ipython3",
   "version": "3.8.5"
  }
 },
 "nbformat": 4,
 "nbformat_minor": 4
}
